{
 "cells": [
  {
   "cell_type": "markdown",
   "metadata": {},
   "source": [
    "# week06_python"
   ]
  },
  {
   "cell_type": "markdown",
   "metadata": {},
   "source": [
    "## Set"
   ]
  },
  {
   "cell_type": "code",
   "execution_count": 50,
   "metadata": {
    "ExecuteTime": {
     "end_time": "2020-11-23T17:20:05.890801Z",
     "start_time": "2020-11-23T17:20:05.872592Z"
    }
   },
   "outputs": [
    {
     "name": "stdout",
     "output_type": "stream",
     "text": [
      "{'jazz', 'pop', 'reggae', 'hip hop', 'country'}\n"
     ]
    }
   ],
   "source": [
    "# It is also a collection type: elements with different types can be inserted\n",
    "# unlike lists sets do not have element positions\n",
    "# it can contain an element only once as if it would have more than once, \n",
    "# it would not be possible to know which one is which as it does not include positions property\n",
    "\n",
    "# reminder \n",
    "# list : []\n",
    "# tuple: ()\n",
    "# set  : {}\n",
    "\n",
    "my_set = { \"pop\", \"jazz\", \"hip hop\", \"country\", \"reggae\", \"pop\", \"jazz\", \"reggae\" }\n",
    "print( my_set )\n"
   ]
  },
  {
   "cell_type": "code",
   "execution_count": 2,
   "metadata": {
    "ExecuteTime": {
     "end_time": "2020-11-23T15:30:46.060233Z",
     "start_time": "2020-11-23T15:30:46.055247Z"
    }
   },
   "outputs": [
    {
     "name": "stdout",
     "output_type": "stream",
     "text": [
      "['pop', 'jazz', 'hip hop', 'country', 'reggae', 'pop', 'jazz', 'reggae']\n",
      "{'jazz', 'pop', 'reggae', 'hip hop', 'country'}\n"
     ]
    }
   ],
   "source": [
    "# casting a list to set\n",
    "my_list = [ \"pop\", \"jazz\", \"hip hop\", \"country\", \"reggae\", \"pop\", \"jazz\", \"reggae\" ]\n",
    "print( my_list )\n",
    "\n",
    "my_set = set( my_list )\n",
    "print( my_set )"
   ]
  },
  {
   "cell_type": "code",
   "execution_count": 6,
   "metadata": {
    "ExecuteTime": {
     "end_time": "2020-11-23T15:33:25.715827Z",
     "start_time": "2020-11-23T15:33:25.710840Z"
    }
   },
   "outputs": [
    {
     "name": "stdout",
     "output_type": "stream",
     "text": [
      "{'godfather_3', 'godfather_2', 'godfather_1'}\n",
      "{'godfather_3', 'godfather_2', 'godfather_1'}\n"
     ]
    }
   ],
   "source": [
    "# adding a new element to a set\n",
    "my_set = { \"godfather_1\", \"godfather_2\" }\n",
    "my_set.add( \"godfather_3\" )\n",
    "print( my_set )\n",
    "\n",
    "# adding the same element\n",
    "my_set.add( \"godfather_3\" )\n",
    "my_set.add( \"godfather_3\" )\n",
    "print( my_set )"
   ]
  },
  {
   "cell_type": "code",
   "execution_count": 19,
   "metadata": {
    "ExecuteTime": {
     "end_time": "2020-11-23T15:38:32.419072Z",
     "start_time": "2020-11-23T15:38:32.412086Z"
    }
   },
   "outputs": [
    {
     "name": "stdout",
     "output_type": "stream",
     "text": [
      "Our finalists are Brad Pitt and Leonardo DiCaprio\n",
      "\n",
      "And Oscar goes to Leonardo DiCaprio\n"
     ]
    }
   ],
   "source": [
    "my_set = { \"Brad Pitt\", \"Leonardo DiCaprio\" }\n",
    "print( \"Our finalists are \" + list( my_set )[0] + \" and \" + list( my_set )[1] + \"\\n\" )\n",
    "\n",
    "my_set.remove( \"Brad Pitt\" )\n",
    "print( \"And Oscar goes to \" + list( my_set )[0] )"
   ]
  },
  {
   "cell_type": "code",
   "execution_count": 25,
   "metadata": {
    "ExecuteTime": {
     "end_time": "2020-11-23T15:41:38.146501Z",
     "start_time": "2020-11-23T15:41:38.141515Z"
    }
   },
   "outputs": [
    {
     "name": "stdout",
     "output_type": "stream",
     "text": [
      "True\n",
      "False\n",
      "True\n"
     ]
    }
   ],
   "source": [
    "# checking if an element is inside a set\n",
    "\n",
    "president_candidates = { \"Trump\", \"Biden\", \"Kanye West\" }\n",
    "\n",
    "print( \"Trump\" in president_candidates )\n",
    "\n",
    "print( \"Hilary\" in president_candidates )\n",
    "\n",
    "print( \"Kanye West\" in president_candidates )"
   ]
  },
  {
   "cell_type": "code",
   "execution_count": 31,
   "metadata": {
    "ExecuteTime": {
     "end_time": "2020-11-23T15:45:46.841055Z",
     "start_time": "2020-11-23T15:45:46.836063Z"
    }
   },
   "outputs": [
    {
     "name": "stdout",
     "output_type": "stream",
     "text": [
      "{'Clinton', 'Trump', 'Biden', 'Bush', 'Obama'}\n",
      "{'Trump', 'Biden'}\n"
     ]
    }
   ],
   "source": [
    "# union\n",
    "ex_presidents = { \"Obama\", \"Bush\", \"Clinton\" }\n",
    "\n",
    "newer_presidents = { \"Trump\", \"Biden\" }\n",
    "fbi_protected_presidents = newer_presidents.union( ex_presidents )\n",
    "print( fbi_protected_presidents )\n",
    "\n",
    "# intersection\n",
    "print( fbi_protected_presidents & president_candidates )"
   ]
  },
  {
   "cell_type": "code",
   "execution_count": 33,
   "metadata": {
    "ExecuteTime": {
     "end_time": "2020-11-23T15:47:12.532933Z",
     "start_time": "2020-11-23T15:47:12.527946Z"
    }
   },
   "outputs": [
    {
     "name": "stdout",
     "output_type": "stream",
     "text": [
      "True\n",
      "False\n"
     ]
    }
   ],
   "source": [
    "# subset check\n",
    "print( newer_presidents.issubset( fbi_protected_presidents ) )\n",
    "print( president_candidates.issubset( fbi_protected_presidents ) )"
   ]
  },
  {
   "cell_type": "markdown",
   "metadata": {
    "ExecuteTime": {
     "end_time": "2020-11-23T15:53:39.820661Z",
     "start_time": "2020-11-23T15:53:39.816640Z"
    }
   },
   "source": [
    "## Dictionaries"
   ]
  },
  {
   "cell_type": "code",
   "execution_count": 37,
   "metadata": {
    "ExecuteTime": {
     "end_time": "2020-11-23T16:13:54.015837Z",
     "start_time": "2020-11-23T16:13:54.009902Z"
    }
   },
   "outputs": [
    {
     "name": "stdout",
     "output_type": "stream",
     "text": [
      "{'Doğum Yeri': 'Giresun', 'Boyu': 1.6, 'Kilosu': 50, 'Baba Adı': 'Temel'}\n"
     ]
    }
   ],
   "source": [
    "# In a list, the elements are reached with their position\n",
    "# In a dictionary, the elements are reached with their keys\n",
    "# These keys does not need to be numbers. They are generally strings\n",
    "# It is like a regular real life dictionary, a specific name is searched for some explaination\n",
    "\n",
    "my_first_dictionary = { \"Doğum Yeri\": \"Giresun\", \"Boyu\": 1.60, \"Kilosu\": 50, \"Baba Adı\": \"Temel\" }\n",
    "print( my_first_dictionary )"
   ]
  },
  {
   "cell_type": "code",
   "execution_count": 39,
   "metadata": {
    "ExecuteTime": {
     "end_time": "2020-11-23T16:14:35.344005Z",
     "start_time": "2020-11-23T16:14:35.338986Z"
    }
   },
   "outputs": [
    {
     "name": "stdout",
     "output_type": "stream",
     "text": [
      "{'black album': 1992, 'The dark side of the moon': 1973, 'In the zone': 2003}\n",
      "{'black album': 'Metallica', 'The dark side of the moon': 'Pink Floyd', 'In the zone': 'Britney Spears'}\n",
      "{'black album': ['The unforgiven', 'Nothing else matters'], 'The dark side of the moon': ['Any colour you like', 'Eclipse'], 'In the zone': ['Toxic', 'Shadow']}\n"
     ]
    }
   ],
   "source": [
    "album_year = { \"black album\": 1992, \"The dark side of the moon\": 1973, \"In the zone\": 2003}\n",
    "album_singer = { \"black album\": \"Metallica\", \"The dark side of the moon\": \"Pink Floyd\", \"In the zone\": \"Britney Spears\"}\n",
    "album_songs = { \"black album\"              : [ \"The unforgiven\", \"Nothing else matters\" ]\n",
    "               ,\"The dark side of the moon\": [ \"Any colour you like\", \"Eclipse\" ]\n",
    "               ,\"In the zone\"              : [ \"Toxic\", \"Shadow\" ]\n",
    "             }\n",
    "\n",
    "print( album_year )\n",
    "print( album_singer )\n",
    "print( album_songs )"
   ]
  },
  {
   "cell_type": "code",
   "execution_count": 40,
   "metadata": {
    "ExecuteTime": {
     "end_time": "2020-11-23T16:15:45.310683Z",
     "start_time": "2020-11-23T16:15:45.307682Z"
    }
   },
   "outputs": [
    {
     "name": "stdout",
     "output_type": "stream",
     "text": [
      "['Toxic', 'Shadow']\n"
     ]
    }
   ],
   "source": [
    "# using key to reach the values\n",
    "\n",
    "print( album_songs[\"In the zone\"] )"
   ]
  },
  {
   "cell_type": "code",
   "execution_count": 42,
   "metadata": {
    "ExecuteTime": {
     "end_time": "2020-11-23T16:16:56.878615Z",
     "start_time": "2020-11-23T16:16:56.874621Z"
    }
   },
   "outputs": [
    {
     "name": "stdout",
     "output_type": "stream",
     "text": [
      "{'black album': 'Metallica', 'The dark side of the moon': 'Pink Floyd', 'In the zone': 'Britney Spears', 'graduation': 'Kanye West'}\n"
     ]
    }
   ],
   "source": [
    "# adding a new element\n",
    "\n",
    "album_singer[\"graduation\"] = \"Kanye West\"\n",
    "print( album_singer )"
   ]
  },
  {
   "cell_type": "code",
   "execution_count": 43,
   "metadata": {
    "ExecuteTime": {
     "end_time": "2020-11-23T16:17:33.958500Z",
     "start_time": "2020-11-23T16:17:33.953514Z"
    }
   },
   "outputs": [
    {
     "name": "stdout",
     "output_type": "stream",
     "text": [
      "{'black album': 'Metallica', 'The dark side of the moon': 'Pink Floyd', 'In the zone': 'Britney Spears'}\n"
     ]
    }
   ],
   "source": [
    "# delete\n",
    "\n",
    "del( album_singer[\"graduation\"] )\n",
    "print( album_singer )"
   ]
  },
  {
   "cell_type": "code",
   "execution_count": 45,
   "metadata": {
    "ExecuteTime": {
     "end_time": "2020-11-23T16:18:41.104168Z",
     "start_time": "2020-11-23T16:18:41.100176Z"
    }
   },
   "outputs": [
    {
     "name": "stdout",
     "output_type": "stream",
     "text": [
      "False\n",
      "True\n"
     ]
    }
   ],
   "source": [
    "# checking if an element exists in the dictionary\n",
    "\n",
    "print( \"graduation\" in album_singer )\n",
    "print( \"black album\" in album_singer )"
   ]
  },
  {
   "cell_type": "code",
   "execution_count": 51,
   "metadata": {
    "ExecuteTime": {
     "end_time": "2020-11-23T17:36:16.262939Z",
     "start_time": "2020-11-23T17:36:16.252990Z"
    }
   },
   "outputs": [
    {
     "name": "stdout",
     "output_type": "stream",
     "text": [
      "dict_keys(['black album', 'The dark side of the moon', 'In the zone'])\n"
     ]
    },
    {
     "data": {
      "text/plain": [
       "dict_keys"
      ]
     },
     "execution_count": 51,
     "metadata": {},
     "output_type": "execute_result"
    }
   ],
   "source": [
    "# getting all the keys\n",
    "print( album_singer.keys() )\n",
    "type( album_singer.keys() )"
   ]
  },
  {
   "cell_type": "code",
   "execution_count": 47,
   "metadata": {
    "ExecuteTime": {
     "end_time": "2020-11-23T16:19:54.893217Z",
     "start_time": "2020-11-23T16:19:54.889229Z"
    }
   },
   "outputs": [
    {
     "name": "stdout",
     "output_type": "stream",
     "text": [
      "dict_values(['Metallica', 'Pink Floyd', 'Britney Spears'])\n"
     ]
    }
   ],
   "source": [
    "# getting all the values\n",
    "print( album_singer.values() )"
   ]
  }
 ],
 "metadata": {
  "kernelspec": {
   "display_name": "Python 3",
   "language": "python",
   "name": "python3"
  },
  "language_info": {
   "codemirror_mode": {
    "name": "ipython",
    "version": 3
   },
   "file_extension": ".py",
   "mimetype": "text/x-python",
   "name": "python",
   "nbconvert_exporter": "python",
   "pygments_lexer": "ipython3",
   "version": "3.7.6"
  },
  "toc": {
   "base_numbering": 1,
   "nav_menu": {},
   "number_sections": true,
   "sideBar": true,
   "skip_h1_title": false,
   "title_cell": "Table of Contents",
   "title_sidebar": "Contents",
   "toc_cell": false,
   "toc_position": {},
   "toc_section_display": true,
   "toc_window_display": false
  },
  "varInspector": {
   "cols": {
    "lenName": 16,
    "lenType": 16,
    "lenVar": 40
   },
   "kernels_config": {
    "python": {
     "delete_cmd_postfix": "",
     "delete_cmd_prefix": "del ",
     "library": "var_list.py",
     "varRefreshCmd": "print(var_dic_list())"
    },
    "r": {
     "delete_cmd_postfix": ") ",
     "delete_cmd_prefix": "rm(",
     "library": "var_list.r",
     "varRefreshCmd": "cat(var_dic_list()) "
    }
   },
   "types_to_exclude": [
    "module",
    "function",
    "builtin_function_or_method",
    "instance",
    "_Feature"
   ],
   "window_display": false
  }
 },
 "nbformat": 4,
 "nbformat_minor": 4
}
