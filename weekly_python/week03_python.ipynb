{
 "cells": [
  {
   "cell_type": "markdown",
   "metadata": {},
   "source": [
    "# week03"
   ]
  },
  {
   "cell_type": "markdown",
   "metadata": {
    "ExecuteTime": {
     "end_time": "2020-10-18T21:08:13.216173Z",
     "start_time": "2020-10-18T21:08:13.212212Z"
    }
   },
   "source": [
    "## Strings"
   ]
  },
  {
   "cell_type": "markdown",
   "metadata": {},
   "source": [
    "### Basics"
   ]
  },
  {
   "cell_type": "code",
   "execution_count": 8,
   "metadata": {
    "ExecuteTime": {
     "end_time": "2020-10-18T21:12:35.275162Z",
     "start_time": "2020-10-18T21:12:35.269181Z"
    }
   },
   "outputs": [
    {
     "name": "stdout",
     "output_type": "stream",
     "text": [
      "Alan Turing\n",
      "\n",
      "Alan Turing\n",
      "\n"
     ]
    }
   ],
   "source": [
    "# It is a sequence of charachters\n",
    "# It is written inside double quotes\n",
    "\n",
    "my_string = \"Alan Turing\"\n",
    "print( my_string + \"\\n\" )\n",
    "\n",
    "# It is also written inside single quotes\n",
    "\n",
    "my_string = 'Alan Turing'\n",
    "print( my_string + '\\n' )"
   ]
  },
  {
   "cell_type": "code",
   "execution_count": 10,
   "metadata": {
    "ExecuteTime": {
     "end_time": "2020-10-18T21:15:58.007478Z",
     "start_time": "2020-10-18T21:15:58.001526Z"
    }
   },
   "outputs": [
    {
     "name": "stdout",
     "output_type": "stream",
     "text": [
      "12345\n",
      "\n",
      "@Alan Turing is the 1st computer scientist !!!! \n",
      "\n"
     ]
    }
   ],
   "source": [
    "# digits can be written inside a string\n",
    "\n",
    "s = \"12345\"\n",
    "print( s + \"\\n\" )\n",
    "\n",
    "# any charachter can be written inside a string\n",
    "\n",
    "s = \"@Alan Turing is the 1st computer scientist !!!! \"\n",
    "print( s + \"\\n\" )"
   ]
  },
  {
   "cell_type": "code",
   "execution_count": 29,
   "metadata": {
    "ExecuteTime": {
     "end_time": "2020-10-18T21:21:17.131611Z",
     "start_time": "2020-10-18T21:21:17.122637Z"
    }
   },
   "outputs": [
    {
     "name": "stdout",
     "output_type": "stream",
     "text": [
      "Alan_Turing_was_born_in_1912\n",
      "\n",
      "1__: A\n",
      "2__: A\n",
      "3__: Alan\n",
      "4__: Turing\n",
      "5__: 19\n",
      "6__: 1912\n",
      "7__: 1912\n"
     ]
    }
   ],
   "source": [
    "# string is an ordered squence \n",
    "\n",
    "s = \"Alan_Turing_was_born_in_1912\"\n",
    "print( s + \"\\n\" )\n",
    "\n",
    "print( \"1__: \" + s[0] )\n",
    "\n",
    "print( \"2__: \" + s[0:1] )\n",
    "\n",
    "print( \"3__: \" + s[0:4] )\n",
    "\n",
    "print( \"4__: \" + s[5:11] )\n",
    "\n",
    "print( \"5__: \" + s[24:26] )\n",
    "\n",
    "print( \"6__: \" + s[24:28] )\n",
    "\n",
    "print( \"7__: \" + s[24:50] )"
   ]
  },
  {
   "cell_type": "code",
   "execution_count": 43,
   "metadata": {
    "ExecuteTime": {
     "end_time": "2020-10-18T21:24:53.827618Z",
     "start_time": "2020-10-18T21:24:53.822633Z"
    }
   },
   "outputs": [
    {
     "name": "stdout",
     "output_type": "stream",
     "text": [
      "1__: @\n",
      "1__: _Turing\n",
      "1__: Alan_Turing\n",
      "1__: Alan_Turing\n"
     ]
    }
   ],
   "source": [
    "# negative order also works\n",
    "\n",
    "s = \"Alan_Turing@gmail.com\"\n",
    "\n",
    "print( \"1__: \" + s[-10] )\n",
    "\n",
    "print( \"2__: \" + s[ -17 : -10 ] )\n",
    "\n",
    "print( \"3__: \" + s[ -21 : -10 ] )\n",
    "\n",
    "print( \"4__: \" + s[ -30 : -10 ] )"
   ]
  },
  {
   "cell_type": "code",
   "execution_count": 64,
   "metadata": {
    "ExecuteTime": {
     "end_time": "2020-10-19T14:17:27.970359Z",
     "start_time": "2020-10-19T14:17:27.954399Z"
    }
   },
   "outputs": [
    {
     "data": {
      "text/plain": [
       "4"
      ]
     },
     "execution_count": 64,
     "metadata": {},
     "output_type": "execute_result"
    }
   ],
   "source": [
    "# lenght of the string\n",
    "\n",
    "s = \"Alan\"\n",
    "len(s)"
   ]
  },
  {
   "cell_type": "code",
   "execution_count": 66,
   "metadata": {
    "ExecuteTime": {
     "end_time": "2020-10-19T14:20:49.435678Z",
     "start_time": "2020-10-19T14:20:49.429724Z"
    }
   },
   "outputs": [
    {
     "name": "stdout",
     "output_type": "stream",
     "text": [
      "Shut up and take my money\n"
     ]
    }
   ],
   "source": [
    "# combining strings\n",
    "\n",
    "s1 = \"Shut up\"\n",
    "s2 = \" \"\n",
    "s3 = \"and take my money\"\n",
    "\n",
    "print ( s1 + s2 + s3 )"
   ]
  },
  {
   "cell_type": "code",
   "execution_count": 68,
   "metadata": {
    "ExecuteTime": {
     "end_time": "2020-10-19T14:30:21.380813Z",
     "start_time": "2020-10-19T14:30:20.123574Z"
    }
   },
   "outputs": [
    {
     "ename": "TypeError",
     "evalue": "'str' object does not support item assignment",
     "output_type": "error",
     "traceback": [
      "\u001b[1;31m---------------------------------------------------------------------------\u001b[0m",
      "\u001b[1;31mTypeError\u001b[0m                                 Traceback (most recent call last)",
      "\u001b[1;32m<ipython-input-68-c7fb931a9722>\u001b[0m in \u001b[0;36m<module>\u001b[1;34m\u001b[0m\n\u001b[0;32m      2\u001b[0m \u001b[1;33m\u001b[0m\u001b[0m\n\u001b[0;32m      3\u001b[0m \u001b[0ms\u001b[0m \u001b[1;33m=\u001b[0m \u001b[1;34m\"Alan\"\u001b[0m\u001b[1;33m\u001b[0m\u001b[1;33m\u001b[0m\u001b[0m\n\u001b[1;32m----> 4\u001b[1;33m \u001b[0ms\u001b[0m\u001b[1;33m[\u001b[0m\u001b[1;36m0\u001b[0m\u001b[1;33m]\u001b[0m \u001b[1;33m=\u001b[0m \u001b[1;34m\"X\"\u001b[0m\u001b[1;33m\u001b[0m\u001b[1;33m\u001b[0m\u001b[0m\n\u001b[0m",
      "\u001b[1;31mTypeError\u001b[0m: 'str' object does not support item assignment"
     ]
    }
   ],
   "source": [
    "# not possible to change string element by element\n",
    "\n",
    "s = \"Alan\"\n",
    "s[0] = \"X\""
   ]
  },
  {
   "cell_type": "code",
   "execution_count": 71,
   "metadata": {
    "ExecuteTime": {
     "end_time": "2020-10-19T14:32:18.715789Z",
     "start_time": "2020-10-19T14:32:18.709841Z"
    }
   },
   "outputs": [
    {
     "name": "stdout",
     "output_type": "stream",
     "text": [
      "Xlan\n"
     ]
    }
   ],
   "source": [
    "# changing with concatenate is possible. It is actually not changing, it is creating a new string\n",
    "\n",
    "s = \"Alan\"\n",
    "s_new = \"X\" + s[ 1:4 ]\n",
    "print( s_new )"
   ]
  },
  {
   "cell_type": "markdown",
   "metadata": {},
   "source": [
    "### Fancy selections"
   ]
  },
  {
   "cell_type": "code",
   "execution_count": 63,
   "metadata": {
    "ExecuteTime": {
     "end_time": "2020-10-19T14:16:16.670529Z",
     "start_time": "2020-10-19T14:16:16.664535Z"
    }
   },
   "outputs": [
    {
     "name": "stdout",
     "output_type": "stream",
     "text": [
      "000000\n",
      "0123\n",
      "135\n",
      "24\n"
     ]
    }
   ],
   "source": [
    "# selecting every x th value\n",
    "\n",
    "s = \"010101010101\"\n",
    "print( s[ ::2 ] )\n",
    "\n",
    "s = \"012_123_234_345\"\n",
    "print( s[ ::4 ] )\n",
    "\n",
    "# selecting every x th value up to a point\n",
    "\n",
    "s = \"123456789\"\n",
    "print( s[ 0:5 : 2 ] ) # start with \"0\"th value and then go \"5\" elements and select every 2 element\n",
    "print( s[ 1:5 : 2 ] )"
   ]
  },
  {
   "cell_type": "markdown",
   "metadata": {},
   "source": [
    "### String replication"
   ]
  },
  {
   "cell_type": "code",
   "execution_count": 67,
   "metadata": {
    "ExecuteTime": {
     "end_time": "2020-10-19T14:29:07.335486Z",
     "start_time": "2020-10-19T14:29:07.331498Z"
    }
   },
   "outputs": [
    {
     "name": "stdout",
     "output_type": "stream",
     "text": [
      "Lebron James has 16 double double in 2019-2020 playoffs\n"
     ]
    }
   ],
   "source": [
    "# replicating strings\n",
    "\n",
    "s1 = \"Lebron James has 16 \"\n",
    "s2 = \"double \"\n",
    "s3 = \"in 2019-2020 playoffs\"\n",
    "\n",
    "print( s1 + 2 * s2 + s3 )"
   ]
  },
  {
   "cell_type": "markdown",
   "metadata": {},
   "source": [
    "### Escape Sequences"
   ]
  },
  {
   "cell_type": "code",
   "execution_count": 73,
   "metadata": {
    "ExecuteTime": {
     "end_time": "2020-10-19T14:35:23.544094Z",
     "start_time": "2020-10-19T14:35:23.540108Z"
    }
   },
   "outputs": [
    {
     "name": "stdout",
     "output_type": "stream",
     "text": [
      "Some claim Lebron James is \n",
      " the greatest of all times\n"
     ]
    }
   ],
   "source": [
    "# new line\n",
    "\n",
    "print( \"Some claim Lebron James is \\n the greatest of all times\" )"
   ]
  },
  {
   "cell_type": "code",
   "execution_count": 74,
   "metadata": {
    "ExecuteTime": {
     "end_time": "2020-10-19T14:36:11.090118Z",
     "start_time": "2020-10-19T14:36:11.086128Z"
    }
   },
   "outputs": [
    {
     "name": "stdout",
     "output_type": "stream",
     "text": [
      "Some claim Lebron James is \t the greatest of all times\n"
     ]
    }
   ],
   "source": [
    "# tab\n",
    "\n",
    "print( \"Some claim Lebron James is \\t the greatest of all times\" )"
   ]
  },
  {
   "cell_type": "code",
   "execution_count": 75,
   "metadata": {
    "ExecuteTime": {
     "end_time": "2020-10-19T14:37:07.466085Z",
     "start_time": "2020-10-19T14:37:07.461099Z"
    }
   },
   "outputs": [
    {
     "name": "stdout",
     "output_type": "stream",
     "text": [
      "Eric \\ Cartman\n"
     ]
    }
   ],
   "source": [
    "# how to put backslash? double backslash\n",
    "\n",
    "print( \"Eric \\\\ Cartman\" )"
   ]
  },
  {
   "cell_type": "code",
   "execution_count": 84,
   "metadata": {
    "ExecuteTime": {
     "end_time": "2020-10-19T14:40:30.512932Z",
     "start_time": "2020-10-19T14:40:30.508941Z"
    }
   },
   "outputs": [
    {
     "name": "stdout",
     "output_type": "stream",
     "text": [
      "Eric Cartman \\ is funny\n",
      "\n",
      "Eric \t Cartman \n",
      " \\ is funny\n"
     ]
    }
   ],
   "source": [
    "# python raw string: it allows to use \\\n",
    "\n",
    "print( \"Eric Cartman \\ is funny\" )\n",
    "\n",
    "# it still does not block newline and tab operations\n",
    "print( \"\\nEric \\t Cartman \\n \\ is funny\" )"
   ]
  },
  {
   "cell_type": "markdown",
   "metadata": {},
   "source": [
    "### Upper - lower case"
   ]
  },
  {
   "cell_type": "code",
   "execution_count": 101,
   "metadata": {
    "ExecuteTime": {
     "end_time": "2020-10-19T14:52:05.462591Z",
     "start_time": "2020-10-19T14:52:05.454612Z"
    }
   },
   "outputs": [
    {
     "name": "stdout",
     "output_type": "stream",
     "text": [
      " USING UPPERCASES IN INTERNET IS LIKE SHOUTING IN REAL LIFE\n",
      "\n",
      " barack obama was the previous president of usa\n",
      "\n",
      " Middle east technical university\n",
      "\n",
      " middle east technical university\n",
      "\n",
      " Middle East Technical University\n",
      "Middle East Technical University\n"
     ]
    }
   ],
   "source": [
    "# uppercase - lowercase - capitalize\n",
    "\n",
    "s = \" using uppercases in internet is like shouting in real life\"\n",
    "print( s.upper() )\n",
    "\n",
    "s = \"\\n Barack OBAMA was the previous president of USA\"\n",
    "print( s.lower() )\n",
    "\n",
    "s = \"middle east technical university\"\n",
    "print( \"\\n \" + s.capitalize() )\n",
    "\n",
    "s = \"\\n middle east technical university\" # it sees newline as the first charachter\n",
    "print( s.capitalize() )\n",
    "\n",
    "# title is one solution\n",
    "print( s.title() )\n",
    "\n",
    "# importing an external library (\"string\") is another solution\n",
    "import string\n",
    "print( string.capwords(s) )"
   ]
  },
  {
   "cell_type": "markdown",
   "metadata": {},
   "source": [
    "### Replace a substring"
   ]
  },
  {
   "cell_type": "code",
   "execution_count": null,
   "metadata": {},
   "outputs": [],
   "source": [
    "# replace\n",
    "\n",
    "s = \"Alan Turing\"\n",
    "\n",
    "print( s.replace( \"Turing\", \"Musk\" ) + \" is interested in Mars\" )"
   ]
  },
  {
   "cell_type": "markdown",
   "metadata": {},
   "source": [
    "### Finding a substring"
   ]
  },
  {
   "cell_type": "code",
   "execution_count": 109,
   "metadata": {
    "ExecuteTime": {
     "end_time": "2020-10-19T14:58:36.414936Z",
     "start_time": "2020-10-19T14:58:36.408950Z"
    }
   },
   "outputs": [
    {
     "name": "stdout",
     "output_type": "stream",
     "text": [
      "53\n",
      "0\n",
      "-1\n"
     ]
    }
   ],
   "source": [
    "# find\n",
    "\n",
    "s = \"How can the price of a single Lahmacun in Alaçatı be $10\"\n",
    "\n",
    "print( s.find( \"$\" ) ) # shows the starting element's location\n",
    "print( s.find( \"How\" ) )\n",
    "\n",
    "print( s.find( \"Cafe de Paris\" ) ) # if not in string, output is \"-1\""
   ]
  }
 ],
 "metadata": {
  "kernelspec": {
   "display_name": "Python 3",
   "language": "python",
   "name": "python3"
  },
  "language_info": {
   "codemirror_mode": {
    "name": "ipython",
    "version": 3
   },
   "file_extension": ".py",
   "mimetype": "text/x-python",
   "name": "python",
   "nbconvert_exporter": "python",
   "pygments_lexer": "ipython3",
   "version": "3.7.6"
  },
  "toc": {
   "base_numbering": 1,
   "nav_menu": {},
   "number_sections": true,
   "sideBar": true,
   "skip_h1_title": false,
   "title_cell": "Table of Contents",
   "title_sidebar": "Contents",
   "toc_cell": false,
   "toc_position": {},
   "toc_section_display": true,
   "toc_window_display": false
  },
  "varInspector": {
   "cols": {
    "lenName": 16,
    "lenType": 16,
    "lenVar": 40
   },
   "kernels_config": {
    "python": {
     "delete_cmd_postfix": "",
     "delete_cmd_prefix": "del ",
     "library": "var_list.py",
     "varRefreshCmd": "print(var_dic_list())"
    },
    "r": {
     "delete_cmd_postfix": ") ",
     "delete_cmd_prefix": "rm(",
     "library": "var_list.r",
     "varRefreshCmd": "cat(var_dic_list()) "
    }
   },
   "types_to_exclude": [
    "module",
    "function",
    "builtin_function_or_method",
    "instance",
    "_Feature"
   ],
   "window_display": true
  }
 },
 "nbformat": 4,
 "nbformat_minor": 4
}
