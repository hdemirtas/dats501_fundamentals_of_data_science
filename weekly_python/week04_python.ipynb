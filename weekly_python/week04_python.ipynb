{
 "cells": [
  {
   "cell_type": "markdown",
   "metadata": {},
   "source": [
    "# week04_python"
   ]
  },
  {
   "cell_type": "markdown",
   "metadata": {},
   "source": [
    "## List"
   ]
  },
  {
   "cell_type": "code",
   "execution_count": 139,
   "metadata": {
    "ExecuteTime": {
     "end_time": "2020-11-09T17:39:57.936921Z",
     "start_time": "2020-11-09T17:39:57.930936Z"
    }
   },
   "outputs": [
    {
     "name": "stdout",
     "output_type": "stream",
     "text": [
      "['ajda pekkan', 7, '15', 3.14, 2020, '/', 39]\n"
     ]
    }
   ],
   "source": [
    "import datetime\n",
    "now = datetime.datetime.now()\n",
    "\n",
    "# List is a collection of elements. The elements does not need to have the same data type\n",
    "# List is represented by square brackets \"[]\"\n",
    "\n",
    "list_1 = [ \"ajda pekkan\", 7, '15', 3.14, now.year, '/', now.minute ]\n",
    "print( list_1 )"
   ]
  },
  {
   "cell_type": "code",
   "execution_count": 140,
   "metadata": {
    "ExecuteTime": {
     "end_time": "2020-11-09T17:39:58.131414Z",
     "start_time": "2020-11-09T17:39:57.938915Z"
    }
   },
   "outputs": [
    {
     "name": "stdout",
     "output_type": "stream",
     "text": [
      "['ajda pekkan', 3.14, ['2020-11-09', '20:00']]\n"
     ]
    }
   ],
   "source": [
    "# nesting is possible: putting another list into a list\n",
    "\n",
    "list_inner = [ '2020-11-09', '20:00' ]\n",
    "list_1 = [ \"ajda pekkan\", 3.14, list_inner ]\n",
    "print( list_1 )"
   ]
  },
  {
   "cell_type": "code",
   "execution_count": 141,
   "metadata": {
    "ExecuteTime": {
     "end_time": "2020-11-09T17:39:58.227002Z",
     "start_time": "2020-11-09T17:39:58.134402Z"
    }
   },
   "outputs": [
    {
     "name": "stdout",
     "output_type": "stream",
     "text": [
      "ajda pekkan\n",
      "3.14\n",
      "['2020-11-09', '20:00']\n"
     ]
    }
   ],
   "source": [
    "# accessing the elements \n",
    "\n",
    "print( list_1[0] )\n",
    "print( list_1[1] )\n",
    "print( list_1[2] )"
   ]
  },
  {
   "cell_type": "code",
   "execution_count": 142,
   "metadata": {
    "ExecuteTime": {
     "end_time": "2020-11-09T17:39:58.314481Z",
     "start_time": "2020-11-09T17:39:58.228997Z"
    }
   },
   "outputs": [
    {
     "name": "stdout",
     "output_type": "stream",
     "text": [
      "ajda pekkan\n",
      "3.14\n",
      "['2020-11-09', '20:00']\n"
     ]
    }
   ],
   "source": [
    "# reverse access\n",
    "\n",
    "print( list_1[-3] )\n",
    "print( list_1[-2] )\n",
    "print( list_1[-1] )"
   ]
  },
  {
   "cell_type": "code",
   "execution_count": 143,
   "metadata": {
    "ExecuteTime": {
     "end_time": "2020-11-09T17:39:58.469695Z",
     "start_time": "2020-11-09T17:39:58.316439Z"
    }
   },
   "outputs": [
    {
     "name": "stdout",
     "output_type": "stream",
     "text": [
      "['ajda pekkan', 3.14]\n"
     ]
    }
   ],
   "source": [
    "# slicing\n",
    "\n",
    "sliced_list = list_1[0:2]\n",
    "print( sliced_list )"
   ]
  },
  {
   "cell_type": "code",
   "execution_count": 144,
   "metadata": {
    "ExecuteTime": {
     "end_time": "2020-11-09T17:39:58.569342Z",
     "start_time": "2020-11-09T17:39:58.471703Z"
    }
   },
   "outputs": [
    {
     "name": "stdout",
     "output_type": "stream",
     "text": [
      "['Walter White', 'Jesse Pinkman', 'Heisenberg']\n"
     ]
    }
   ],
   "source": [
    "# combining by adding\n",
    "\n",
    "list_comb = [ 'Walter White', 'Jesse Pinkman' ] + [ 'Heisenberg' ]\n",
    "print(list_comb)"
   ]
  },
  {
   "cell_type": "code",
   "execution_count": 137,
   "metadata": {
    "ExecuteTime": {
     "end_time": "2020-11-09T17:39:45.014984Z",
     "start_time": "2020-11-09T17:39:44.911750Z"
    }
   },
   "outputs": [
    {
     "name": "stdout",
     "output_type": "stream",
     "text": [
      "['Walter White', 'Jesse Pinkman', 'Werner Heisenberg']\n",
      "['Walter White', 'Jesse Pinkman', 'Heisenberg']\n"
     ]
    }
   ],
   "source": [
    "# changing an element: as lists are mutable it is possible to modify them\n",
    "\n",
    "list_comb[2] = 'Werner Heisenberg'\n",
    "print( list_comb )\n",
    "list_comb[2] = 'Heisenberg'\n",
    "print( list_comb )"
   ]
  },
  {
   "cell_type": "code",
   "execution_count": 146,
   "metadata": {
    "ExecuteTime": {
     "end_time": "2020-11-09T17:40:10.345096Z",
     "start_time": "2020-11-09T17:40:10.340111Z"
    }
   },
   "outputs": [
    {
     "name": "stdout",
     "output_type": "stream",
     "text": [
      "['Walter White', 'Jesse Pinkman', 'Heisenberg']\n"
     ]
    }
   ],
   "source": [
    "# deleting an element\n",
    "\n",
    "# del[ list_comb[5] ]\n",
    "print( list_comb )"
   ]
  },
  {
   "cell_type": "code",
   "execution_count": 107,
   "metadata": {
    "ExecuteTime": {
     "end_time": "2020-11-09T16:32:00.272852Z",
     "start_time": "2020-11-09T16:32:00.265398Z"
    }
   },
   "outputs": [
    {
     "name": "stdout",
     "output_type": "stream",
     "text": [
      "['Minister', 'of', 'Economy']\n"
     ]
    }
   ],
   "source": [
    "# from string to list by 'split'. Default method seperates words\n",
    "\n",
    "list_split = 'Minister of Economy'.split()\n",
    "print( list_split )"
   ]
  },
  {
   "cell_type": "code",
   "execution_count": 148,
   "metadata": {
    "ExecuteTime": {
     "end_time": "2020-11-09T17:41:59.480507Z",
     "start_time": "2020-11-09T17:41:59.474525Z"
    }
   },
   "outputs": [
    {
     "name": "stdout",
     "output_type": "stream",
     "text": [
      "[\"Turkey's-Treasury-and-Finance-Minister\"]\n",
      "[\"Turkey's-\", '-and-Finance-Minister']\n"
     ]
    }
   ],
   "source": [
    "# split specified by a 'delimiter'\n",
    "\n",
    "list_split = 'Turkey\\'s-Treasury-and-Finance-Minister'.split()\n",
    "print( list_split )\n",
    "\n",
    "list_split = 'Turkey\\'s-Treasury-and-Finance-Minister'.split('-')\n",
    "print( list_split )"
   ]
  },
  {
   "cell_type": "code",
   "execution_count": 108,
   "metadata": {
    "ExecuteTime": {
     "end_time": "2020-11-09T16:32:19.210531Z",
     "start_time": "2020-11-09T16:32:19.202295Z"
    }
   },
   "outputs": [],
   "source": [
    "# deleting the list\n",
    "\n",
    "del list_split"
   ]
  },
  {
   "cell_type": "code",
   "execution_count": 117,
   "metadata": {
    "ExecuteTime": {
     "end_time": "2020-11-09T16:40:37.286232Z",
     "start_time": "2020-11-09T16:40:37.278379Z"
    }
   },
   "outputs": [
    {
     "name": "stdout",
     "output_type": "stream",
     "text": [
      "['aliasing', 'a', 'list']\n",
      "['aliasing', 'a', 'list']\n",
      "['a', 'list']\n",
      "['a', 'list']\n",
      "['the', 'list']\n",
      "['the', 'list']\n"
     ]
    }
   ],
   "source": [
    "# aliasing: Multiple names referencing the same object\n",
    "\n",
    "A = [ 'aliasing', 'a', 'list' ]\n",
    "B = A\n",
    "print( A )\n",
    "print( B )\n",
    "\n",
    "del( A[0] )\n",
    "print( A )\n",
    "print( B )\n",
    "\n",
    "A[0] = 'the'\n",
    "print( A )\n",
    "print( B )"
   ]
  },
  {
   "cell_type": "code",
   "execution_count": 1,
   "metadata": {
    "ExecuteTime": {
     "end_time": "2020-11-23T14:23:14.340819Z",
     "start_time": "2020-11-23T14:23:14.336832Z"
    }
   },
   "outputs": [
    {
     "name": "stdout",
     "output_type": "stream",
     "text": [
      "['aliasing', 'a', 'list']\n",
      "['aliasing', 'a', 'list']\n",
      "\n",
      "['modifying', 'the', 'list']\n",
      "['aliasing', 'a', 'list']\n"
     ]
    }
   ],
   "source": [
    "# cloning\n",
    "\n",
    "A = ['aliasing', 'a', 'list']\n",
    "B = A[:]\n",
    "print(A)\n",
    "print(B)\n",
    "print(\"\")\n",
    "\n",
    "A[0] = 'modifying'\n",
    "A[1] = 'the'\n",
    "print(A)\n",
    "print(B)"
   ]
  },
  {
   "cell_type": "markdown",
   "metadata": {},
   "source": [
    "### List Methods"
   ]
  },
  {
   "cell_type": "code",
   "execution_count": 63,
   "metadata": {
    "ExecuteTime": {
     "end_time": "2020-11-09T16:12:07.906067Z",
     "start_time": "2020-11-09T16:12:07.895055Z"
    }
   },
   "outputs": [
    {
     "name": "stdout",
     "output_type": "stream",
     "text": [
      "['Walter White', 'Jesse Pinkman', 'Heisenberg', '2020', '0000-000']\n"
     ]
    }
   ],
   "source": [
    "# Extend: adds new elements\n",
    "# list is mutable: modifying it is possible\n",
    "\n",
    "list_comb.extend( [ '2020', '0000-000' ] )\n",
    "print( list_comb )"
   ]
  },
  {
   "cell_type": "code",
   "execution_count": 64,
   "metadata": {
    "ExecuteTime": {
     "end_time": "2020-11-09T16:12:10.545556Z",
     "start_time": "2020-11-09T16:12:10.541830Z"
    }
   },
   "outputs": [
    {
     "name": "stdout",
     "output_type": "stream",
     "text": [
      "['Walter White', 'Jesse Pinkman', 'Heisenberg', '2020', '0000-000', ['2020', '0000-0000']]\n"
     ]
    }
   ],
   "source": [
    "# Append: add new elements as a single element\n",
    "\n",
    "list_comb.append( ['2020', '0000-0000'] )\n",
    "print( list_comb )"
   ]
  },
  {
   "cell_type": "code",
   "execution_count": 80,
   "metadata": {
    "ExecuteTime": {
     "end_time": "2020-11-09T16:14:47.292348Z",
     "start_time": "2020-11-09T16:14:47.283999Z"
    }
   },
   "outputs": [
    {
     "name": "stdout",
     "output_type": "stream",
     "text": [
      "['Walter White', 'Jesse Pinkman', 'Heisenberg', '2020', '0000-000', ['2020', '0000-0000']]\n"
     ]
    }
   ],
   "source": [
    "# Copy: creates a copy \n",
    "\n",
    "list_1 = list_comb.copy()\n",
    "print( list_1 )"
   ]
  },
  {
   "cell_type": "code",
   "execution_count": 81,
   "metadata": {
    "ExecuteTime": {
     "end_time": "2020-11-09T16:14:48.707948Z",
     "start_time": "2020-11-09T16:14:48.700205Z"
    }
   },
   "outputs": [
    {
     "name": "stdout",
     "output_type": "stream",
     "text": [
      "[]\n"
     ]
    }
   ],
   "source": [
    "# Clear: Removes all the elements from the list\n",
    "\n",
    "list_2 = list_1.copy()\n",
    "list_2.clear()\n",
    "print( list_2 )"
   ]
  },
  {
   "cell_type": "code",
   "execution_count": 82,
   "metadata": {
    "ExecuteTime": {
     "end_time": "2020-11-09T16:14:50.252356Z",
     "start_time": "2020-11-09T16:14:50.241341Z"
    }
   },
   "outputs": [
    {
     "name": "stdout",
     "output_type": "stream",
     "text": [
      "1\n",
      "0\n"
     ]
    }
   ],
   "source": [
    "# Count: Returns the number of elements with the specified value\n",
    "\n",
    "print( list_1.count( 'Heisenberg') )\n",
    "print( list_1.count( 'Jesse' ) )"
   ]
  },
  {
   "cell_type": "code",
   "execution_count": 83,
   "metadata": {
    "ExecuteTime": {
     "end_time": "2020-11-09T16:14:52.225387Z",
     "start_time": "2020-11-09T16:14:52.217440Z"
    }
   },
   "outputs": [
    {
     "name": "stdout",
     "output_type": "stream",
     "text": [
      "2\n",
      "3\n"
     ]
    }
   ],
   "source": [
    "# Index: Returns the index of the first element with the specified value\n",
    "\n",
    "print( list_1.index( 'Heisenberg') )\n",
    "print( list_1.index( '2020') )"
   ]
  },
  {
   "cell_type": "code",
   "execution_count": 84,
   "metadata": {
    "ExecuteTime": {
     "end_time": "2020-11-09T16:14:54.915150Z",
     "start_time": "2020-11-09T16:14:54.902740Z"
    }
   },
   "outputs": [
    {
     "ename": "ValueError",
     "evalue": "'Jesse' is not in list",
     "output_type": "error",
     "traceback": [
      "\u001b[1;31m---------------------------------------------------------------------------\u001b[0m",
      "\u001b[1;31mValueError\u001b[0m                                Traceback (most recent call last)",
      "\u001b[1;32m<ipython-input-84-cd0b182bba4a>\u001b[0m in \u001b[0;36m<module>\u001b[1;34m\u001b[0m\n\u001b[0;32m      1\u001b[0m \u001b[1;31m# returns error if the element is not in the list\u001b[0m\u001b[1;33m\u001b[0m\u001b[1;33m\u001b[0m\u001b[1;33m\u001b[0m\u001b[0m\n\u001b[0;32m      2\u001b[0m \u001b[1;33m\u001b[0m\u001b[0m\n\u001b[1;32m----> 3\u001b[1;33m \u001b[0mprint\u001b[0m\u001b[1;33m(\u001b[0m \u001b[0mlist_1\u001b[0m\u001b[1;33m.\u001b[0m\u001b[0mindex\u001b[0m\u001b[1;33m(\u001b[0m \u001b[1;34m'Jesse'\u001b[0m \u001b[1;33m)\u001b[0m \u001b[1;33m)\u001b[0m\u001b[1;33m\u001b[0m\u001b[1;33m\u001b[0m\u001b[0m\n\u001b[0m",
      "\u001b[1;31mValueError\u001b[0m: 'Jesse' is not in list"
     ]
    }
   ],
   "source": [
    "# returns error if the element is not in the list\n",
    "\n",
    "print( list_1.index( 'Jesse' ) )"
   ]
  },
  {
   "cell_type": "code",
   "execution_count": 89,
   "metadata": {
    "ExecuteTime": {
     "end_time": "2020-11-09T16:17:11.434107Z",
     "start_time": "2020-11-09T16:17:11.426293Z"
    }
   },
   "outputs": [
    {
     "name": "stdout",
     "output_type": "stream",
     "text": [
      "['coffee', 'tea', 'cola']\n"
     ]
    }
   ],
   "source": [
    "# Insert: Adds an element at the specified position\n",
    "\n",
    "drinks = [ 'coffee', 'cola' ]\n",
    "drinks.insert( 1, \"tea\" )\n",
    "print( drinks )"
   ]
  },
  {
   "cell_type": "code",
   "execution_count": 91,
   "metadata": {
    "ExecuteTime": {
     "end_time": "2020-11-09T16:17:58.809628Z",
     "start_time": "2020-11-09T16:17:58.806377Z"
    }
   },
   "outputs": [
    {
     "name": "stdout",
     "output_type": "stream",
     "text": [
      "['coffee', 'cola']\n"
     ]
    }
   ],
   "source": [
    "# Pop: Removes by position\n",
    "\n",
    "drinks.pop( 1 )\n",
    "print( drinks )"
   ]
  },
  {
   "cell_type": "code",
   "execution_count": 93,
   "metadata": {
    "ExecuteTime": {
     "end_time": "2020-11-09T16:19:05.614276Z",
     "start_time": "2020-11-09T16:19:05.610654Z"
    }
   },
   "outputs": [
    {
     "name": "stdout",
     "output_type": "stream",
     "text": [
      "['cola']\n"
     ]
    }
   ],
   "source": [
    "# Remove: Removes by value\n",
    "\n",
    "drinks.remove( 'coffee' )\n",
    "print( drinks )"
   ]
  },
  {
   "cell_type": "code",
   "execution_count": 98,
   "metadata": {
    "ExecuteTime": {
     "end_time": "2020-11-09T16:22:46.408897Z",
     "start_time": "2020-11-09T16:22:46.397541Z"
    }
   },
   "outputs": [
    {
     "name": "stdout",
     "output_type": "stream",
     "text": [
      "['a', 'b', 'c', 'z']\n",
      "['z', 'c', 'b', 'a']\n"
     ]
    }
   ],
   "source": [
    "# Sort\n",
    "\n",
    "students = [ 'z', 'a', 'b', 'c' ]\n",
    "students.sort()\n",
    "print( students )\n",
    "students.sort( reverse = True )\n",
    "print( students )"
   ]
  },
  {
   "cell_type": "code",
   "execution_count": 100,
   "metadata": {
    "ExecuteTime": {
     "end_time": "2020-11-09T16:25:23.279089Z",
     "start_time": "2020-11-09T16:25:23.275039Z"
    }
   },
   "outputs": [
    {
     "name": "stdout",
     "output_type": "stream",
     "text": [
      "['drink_the_soup', 'take_a_spoon', 'wash_hands']\n"
     ]
    }
   ],
   "source": [
    "# Reverse: Reverses the order\n",
    "\n",
    "order = [ 'wash_hands', 'take_a_spoon', 'drink_the_soup' ]\n",
    "\n",
    "order.reverse()\n",
    "print( order )"
   ]
  }
 ],
 "metadata": {
  "kernelspec": {
   "display_name": "Python 3",
   "language": "python",
   "name": "python3"
  },
  "language_info": {
   "codemirror_mode": {
    "name": "ipython",
    "version": 3
   },
   "file_extension": ".py",
   "mimetype": "text/x-python",
   "name": "python",
   "nbconvert_exporter": "python",
   "pygments_lexer": "ipython3",
   "version": "3.7.6"
  },
  "toc": {
   "base_numbering": 1,
   "nav_menu": {},
   "number_sections": true,
   "sideBar": true,
   "skip_h1_title": false,
   "title_cell": "Table of Contents",
   "title_sidebar": "Contents",
   "toc_cell": false,
   "toc_position": {},
   "toc_section_display": true,
   "toc_window_display": false
  },
  "varInspector": {
   "cols": {
    "lenName": 16,
    "lenType": 16,
    "lenVar": 40
   },
   "kernels_config": {
    "python": {
     "delete_cmd_postfix": "",
     "delete_cmd_prefix": "del ",
     "library": "var_list.py",
     "varRefreshCmd": "print(var_dic_list())"
    },
    "r": {
     "delete_cmd_postfix": ") ",
     "delete_cmd_prefix": "rm(",
     "library": "var_list.r",
     "varRefreshCmd": "cat(var_dic_list()) "
    }
   },
   "oldHeight": 338.4,
   "position": {
    "height": "40px",
    "left": "584.333px",
    "right": "20px",
    "top": "89px",
    "width": "362px"
   },
   "types_to_exclude": [
    "module",
    "function",
    "builtin_function_or_method",
    "instance",
    "_Feature"
   ],
   "varInspector_section_display": "none",
   "window_display": true
  }
 },
 "nbformat": 4,
 "nbformat_minor": 4
}
